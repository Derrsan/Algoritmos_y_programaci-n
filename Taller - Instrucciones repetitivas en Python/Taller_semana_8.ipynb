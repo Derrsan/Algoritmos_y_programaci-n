{
  "cells": [
    {
      "cell_type": "markdown",
      "metadata": {
        "id": "QZ6XziVD76Jw"
      },
      "source": [
        "<h1 align=\"center\">Taller - Instrucciones repetitivas en Python</h1>\n",
        "\n",
        "Desarrolle la solucion a los siguientes problemas en Python, usando funciones y el programa correspondiente\n",
        "\n",
        "---"
      ]
    },
    {
      "cell_type": "markdown",
      "metadata": {
        "id": "uJJp2xk076J1"
      },
      "source": [
        "## Ejercicio 01\n",
        "\n",
        "Una librería ofrece dos tipos de descuentos ante la compra de un libro. Si el libro tiene un precio inferior a cien mil pesos, el descuento es del 12% del precio; pero en cualquier otro caso, el descuento asciende a un 18%.\n",
        "\n",
        "* Escriba una función que halle el precio neto de un libro (precio menos descuento) de un libro, dado el precio del libro.\n",
        "* Ahora, escriba un programa que permita leer el precio de varios libros (finalizar cuando el precio es cero o negativo) y mostrar para cada libro, el precio neto (usando la función desarrollada anteriormente)"
      ]
    },
    {
      "cell_type": "code",
      "execution_count": null,
      "metadata": {
        "id": "58mamZV176J2",
        "colab": {
          "base_uri": "https://localhost:8080/"
        },
        "outputId": "f86cab6c-8cc3-41c0-c9cf-787457f38cf6"
      },
      "outputs": [
        {
          "output_type": "stream",
          "name": "stdout",
          "text": [
            "Ingrese el precio del libro: 60000\n",
            "el precio neto es:  52800.0\n",
            "Ingrese el precio del libro: 30000\n",
            "el precio neto es:  26400.0\n",
            "Ingrese el precio del libro: 20000\n",
            "el precio neto es:  17600.0\n",
            "Ingrese el precio del libro: 10000\n",
            "el precio neto es:  8800.0\n",
            "Ingrese el precio del libro: 5000\n",
            "el precio neto es:  4400.0\n",
            "Ingrese el precio del libro: 3000\n",
            "el precio neto es:  2640.0\n",
            "Ingrese el precio del libro: 10000000\n",
            "el precio neto es:  8200000.0\n"
          ]
        }
      ],
      "source": [
        "# Definición de la función\n",
        "def PrecioNeto(PrecioLibro: float) -> float:\n",
        "    if PrecioLibro < 100000:\n",
        "        PrecioNeto = PrecioLibro - (PrecioLibro*0.12)\n",
        "    else:\n",
        "        PrecioNeto = PrecioLibro - (PrecioLibro*0.18)\n",
        "    return PrecioNeto\n",
        "\n",
        "\n",
        "# Programa principal\n",
        "PrecioLibro = float(input(\"Ingrese el precio del libro: \"))\n",
        "while PrecioLibro > 0:\n",
        "    PrecioNetos = PrecioNeto(PrecioLibro)\n",
        "    print(\"el precio neto es: \", PrecioNetos)\n",
        "    PrecioLibro = float(input(\"Ingrese el precio del libro: \"))\n",
        "\n",
        "\n",
        "\n"
      ]
    },
    {
      "cell_type": "markdown",
      "metadata": {
        "id": "jF4Qm9FE76J3"
      },
      "source": [
        "---"
      ]
    },
    {
      "cell_type": "markdown",
      "metadata": {
        "id": "weyR_q0d76J4"
      },
      "source": [
        "## Ejercicio 02\n",
        "\n",
        "Un vendedor recibe una comisión por el volumen de ventas que realice. Las reglas para asignarle la comisión al vendedor son las siguientes:\n",
        "\n",
        "Ventas | Comisión\n",
        "---|---\n",
        "Inferior a 50 mil pesos | 7% de las ventas\n",
        "Entre 50 mil y 100 mil pesos | 9% de las ventas más 5 mil pesos\n",
        "Entre 100 mil y 200 mil pesos | 11% de las ventas más 10 mil pesos\n",
        "Entre 200 mil y 500 mil pesos | 13% de las ventas más 20 mil pesos\n",
        "Más de 500 mil pesos | 15% de las ventas más 40 mil pesos\n",
        "\n",
        "* Escriba una función que recibe el valor de las ventas de un vendedor y que retorne la comisión\n",
        "* Escriba un programa que lea el valor de ventas de varios vendedores de la empresa (finalizar cuando las ventas sean negativas), y usando la función anterior, calcule la comisión y la imprima por pantalla."
      ]
    },
    {
      "cell_type": "code",
      "execution_count": null,
      "metadata": {
        "id": "kMitVJVW76J4"
      },
      "outputs": [],
      "source": [
        "# Definición de la función\n",
        "def Comision(ValorVentas:float)->float:\n",
        "    if (ValorVentas<50000):\n",
        "        Ganancia = ValorVentas * 0.07\n",
        "    elif (50000<=ValorVentas<=100000):\n",
        "        Ganancia = (ValorVentas * 0.09) + 5000\n",
        "    elif (100001<=ValorVentas<200000):\n",
        "        Ganancia = (ValorVentas * 0.11) + 10000\n",
        "    elif (200001<=ValorVentas<=500000):\n",
        "        Ganancia = (ValorVentas * 0.13) + 20000\n",
        "    elif (ValorVentas>=500001):\n",
        "        Ganancia = (ValorVentas * 0.15) + 40000\n",
        "    return Ganancia\n",
        "\n",
        "\n",
        "# Programa principal\n",
        "ValorVentas = float(input(\"Ingrese el valor de la venta\"))\n",
        "\n",
        "while 0<ValorVentas:\n",
        "    Ganan = Comision(ValorVentas)\n",
        "    print(f\"El valor de la comision es de: {Ganan}\")\n",
        "    ValorVentas = float(input(\"Ingrese el valor de la venta\"))\n",
        "\n",
        "print(\"Final de programa\")\n"
      ]
    },
    {
      "cell_type": "markdown",
      "metadata": {
        "id": "YWyFJrR876J4"
      },
      "source": [
        "---\n"
      ]
    },
    {
      "cell_type": "markdown",
      "metadata": {
        "id": "2IHUrLVh76J5"
      },
      "source": [
        "## Ejercicio 03\n",
        "\n",
        "Una empresa ofrece a sus empleados un salario mensual fijo, y un porcertaje de las ventas como una comisión adicional a ese salario mensual. Esta comisión se calcula de la siguiente manera: si las ventas de un empleado excede los 50 mil pesoso, la comisión será de un 12% de las ventas que están por encima de los 50 mil pesos, en otro caso no habrá comisión.\n",
        "\n",
        "* Primero, construya una función en la que dado las ventas que hizo el empleado, determine cuánto es la comisión\n",
        "* Ahora hay que hacer un programa que calcule y muestre los salarios y comisiones de todos los empleados de la empresa. Para cada empleado hay que preguntarle al usuario, el salario mensual y las ventas realizadas, y mostrar la comisión por las ventas (usando la función anterior) y el salario neto (salario más comisión). Como no sabemos cuántos empleados hay, después de mostrar esta información, debemos preguntarle al usuario si desea seguir o no."
      ]
    },
    {
      "cell_type": "code",
      "execution_count": 8,
      "metadata": {
        "id": "aTuMvKmw76J5",
        "colab": {
          "base_uri": "https://localhost:8080/"
        },
        "outputId": "1fc2530b-e55b-49db-a3b5-9e1b6b57671c"
      },
      "outputs": [
        {
          "name": "stdout",
          "output_type": "stream",
          "text": [
            "Ingrese salario: 1800000\n",
            "Ingrese ventas: 600000\n",
            "Comision y salario neto es: (72000.0, 1872000.0)\n",
            "Ingrese salario: 0\n"
          ]
        }
      ],
      "source": [
        "# Definición de la función\n",
        "def CalcularComision(SalarioFijo:float,Ventas:float)->(float,float):\n",
        "  if(Ventas>=50000):\n",
        "    Comision=Ventas*0.12\n",
        "    SalarioNeto=SalarioFijo+Comision\n",
        "  else:\n",
        "    Comision=0\n",
        "    SalarioNeto=SalarioFijo+Comision\n",
        "  return Comision,SalarioNeto\n",
        "\n",
        "\n",
        "# Programa principal\n",
        "while True:\n",
        "  Salario = int(input(\"Ingrese salario: \"))\n",
        "  if(Salario == 0):\n",
        "    break\n",
        "  Ventas = int(input(\"Ingrese ventas: \"))\n",
        "  Comison = CalcularComision(Salario,Ventas)\n",
        "  print(f\"Comision y salario neto es: {Comison}\")\n",
        "\n",
        "\n"
      ]
    },
    {
      "cell_type": "markdown",
      "metadata": {
        "id": "6M93ZEZh76J5"
      },
      "source": [
        "---"
      ]
    },
    {
      "cell_type": "markdown",
      "metadata": {
        "id": "ge6TBY0P76J6"
      },
      "source": [
        "## Ejercicio 04\n",
        "\n",
        "En una empresa se le paga a los trabajadores al final de cada semana de acuerdo a las reglas dadas a continuación:\n",
        "\n",
        "* Si trabajas 35 horas o menos, se le paga un valor de 15 mil pesos la hora;\n",
        "* Si trabaja más de 35 horas pero menos de 60, el valor de la hora es de 15 mil por las primeras 35 horas y de 18 mil por cada hora trabajada por encima de las 35\n",
        "* Si trabaja más de 60 horas, las primeras 35 se pagan a 15 mil, las siguiente 25 horas a 18 mil cada una y las horas horas trabajadas por encima de las 60 horas, se le paga a 25 mil pesos cada una.\n",
        "\n",
        "Vamos a buscar imprimir el salario semanal de cada uno de los empleados de la empresa. Para ello:\n",
        "\n",
        "* Escriba una función que reciba el número de horas trabajadas por un empleado y retorne el salario\n",
        "* Un programa que le pregunte al usuario el número de empleados que trabajan en la empresa, y para cada uno de esos, pregunte el número de horas trabajadas en la semana, y usando la función anterior, imprima el salario mensual de ese empleado."
      ]
    },
    {
      "cell_type": "code",
      "execution_count": 17,
      "metadata": {
        "id": "o8NultX076J6",
        "colab": {
          "base_uri": "https://localhost:8080/"
        },
        "outputId": "ce677600-6e3b-4108-c1c0-41d1b4eef05b"
      },
      "outputs": [
        {
          "output_type": "stream",
          "name": "stdout",
          "text": [
            "Ingrese numero de empleados: 2\n",
            "Ingrese las horas extras trabajador # 1 semana uno: 1\n",
            "Ingrese las horas extras trabajador # 1 semana dos: 25\n",
            "Ingrese las horas extras trabajador # 1 semana tres: 36\n",
            "Ingrese las horas extras trabajador # 1 semana cuatro: 69\n",
            "El pago mensual es de: 2763000 \n",
            "Ingrese las horas extras trabajador # 2 semana uno: 25\n",
            "Ingrese las horas extras trabajador # 2 semana dos: 58\n",
            "Ingrese las horas extras trabajador # 2 semana tres: 69\n",
            "Ingrese las horas extras trabajador # 2 semana cuatro: 47\n",
            "\n",
            "Programa terminado\n"
          ]
        }
      ],
      "source": [
        "# Definición de la función\n",
        "def Extras(Horas:int)->(int):\n",
        "  if(Horas<=35):\n",
        "    Extras = Horas*15000\n",
        "  elif(35<Horas<60):\n",
        "    Extras = Horas*18000\n",
        "  elif(Horas>60):\n",
        "    Extras = Horas*25000\n",
        "  return Extras\n",
        "\n",
        "# Programa principal\n",
        "Empleados = 0\n",
        "NumeroEmpleados = 0\n",
        "Empleados = int(input(\"Ingrese numero de empleados: \"))\n",
        "while True:\n",
        "  NumeroEmpleados += 1\n",
        "  HorasSemana1 = int(input(f\"Ingrese las horas extras trabajador # {NumeroEmpleados} semana uno: \"))\n",
        "  HorasSemana2 = int(input(f\"Ingrese las horas extras trabajador # {NumeroEmpleados} semana dos: \"))\n",
        "  HorasSemana3 = int(input(f\"Ingrese las horas extras trabajador # {NumeroEmpleados} semana tres: \"))\n",
        "  HorasSemana4 = int(input(f\"Ingrese las horas extras trabajador # {NumeroEmpleados} semana cuatro: \"))\n",
        "  if(Empleados == NumeroEmpleados):\n",
        "    break\n",
        "  RecargoSemana1 = Extras(HorasSemana1)\n",
        "  RecargoSemana2 = Extras(HorasSemana2)\n",
        "  RecargoSemana3 = Extras(HorasSemana3)\n",
        "  RecargoSemana4 = Extras(HorasSemana4)\n",
        "\n",
        "  RecargoMensual = RecargoSemana1 + RecargoSemana2 + RecargoSemana3 + RecargoSemana4\n",
        "  print(f\"El pago mensual es de: {RecargoMensual} \")\n",
        "print(\"\\nPrograma terminado\")\n"
      ]
    },
    {
      "cell_type": "code",
      "source": [],
      "metadata": {
        "id": "lpPSxmKjUK1g"
      },
      "execution_count": null,
      "outputs": []
    }
  ],
  "metadata": {
    "colab": {
      "provenance": []
    },
    "kernelspec": {
      "display_name": "Python 3",
      "language": "python",
      "name": "python3"
    },
    "language_info": {
      "codemirror_mode": {
        "name": "ipython",
        "version": 3
      },
      "file_extension": ".py",
      "mimetype": "text/x-python",
      "name": "python",
      "nbconvert_exporter": "python",
      "pygments_lexer": "ipython3",
      "version": "3.7.7"
    }
  },
  "nbformat": 4,
  "nbformat_minor": 0
}